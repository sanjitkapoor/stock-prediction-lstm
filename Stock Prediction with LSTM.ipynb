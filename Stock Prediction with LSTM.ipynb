{
 "cells": [
  {
   "cell_type": "markdown",
   "id": "86863ca2",
   "metadata": {},
   "source": [
    "## Predicting Stock Price Using LSTM Model\n",
    "\n",
    "#### Sanjit Kapoor\n",
    "<hr><hr>"
   ]
  },
  {
   "cell_type": "markdown",
   "id": "772ebf11",
   "metadata": {},
   "source": [
    "### Loading data"
   ]
  },
  {
   "cell_type": "code",
   "execution_count": 1,
   "id": "57e4b9a0",
   "metadata": {},
   "outputs": [],
   "source": [
    "import pandas as pd\n",
    "df = pd.read_csv('samsung.csv')"
   ]
  },
  {
   "cell_type": "code",
   "execution_count": 2,
   "id": "4a657784",
   "metadata": {},
   "outputs": [
    {
     "data": {
      "text/html": [
       "<div>\n",
       "<style scoped>\n",
       "    .dataframe tbody tr th:only-of-type {\n",
       "        vertical-align: middle;\n",
       "    }\n",
       "\n",
       "    .dataframe tbody tr th {\n",
       "        vertical-align: top;\n",
       "    }\n",
       "\n",
       "    .dataframe thead th {\n",
       "        text-align: right;\n",
       "    }\n",
       "</style>\n",
       "<table border=\"1\" class=\"dataframe\">\n",
       "  <thead>\n",
       "    <tr style=\"text-align: right;\">\n",
       "      <th></th>\n",
       "      <th>Date</th>\n",
       "      <th>Open</th>\n",
       "      <th>High</th>\n",
       "      <th>Low</th>\n",
       "      <th>Close</th>\n",
       "      <th>Adj Close</th>\n",
       "      <th>Volume</th>\n",
       "    </tr>\n",
       "  </thead>\n",
       "  <tbody>\n",
       "    <tr>\n",
       "      <th>0</th>\n",
       "      <td>2016-11-23</td>\n",
       "      <td>33220.0</td>\n",
       "      <td>33220.0</td>\n",
       "      <td>32520.0</td>\n",
       "      <td>32980.0</td>\n",
       "      <td>28309.726563</td>\n",
       "      <td>12668600.0</td>\n",
       "    </tr>\n",
       "    <tr>\n",
       "      <th>1</th>\n",
       "      <td>2016-11-24</td>\n",
       "      <td>32980.0</td>\n",
       "      <td>33040.0</td>\n",
       "      <td>32660.0</td>\n",
       "      <td>33000.0</td>\n",
       "      <td>28326.886719</td>\n",
       "      <td>7757150.0</td>\n",
       "    </tr>\n",
       "    <tr>\n",
       "      <th>2</th>\n",
       "      <td>2016-11-25</td>\n",
       "      <td>32820.0</td>\n",
       "      <td>33040.0</td>\n",
       "      <td>32660.0</td>\n",
       "      <td>33000.0</td>\n",
       "      <td>28326.886719</td>\n",
       "      <td>6276900.0</td>\n",
       "    </tr>\n",
       "    <tr>\n",
       "      <th>3</th>\n",
       "      <td>2016-11-28</td>\n",
       "      <td>33000.0</td>\n",
       "      <td>33620.0</td>\n",
       "      <td>32800.0</td>\n",
       "      <td>33540.0</td>\n",
       "      <td>28790.425781</td>\n",
       "      <td>13294050.0</td>\n",
       "    </tr>\n",
       "    <tr>\n",
       "      <th>4</th>\n",
       "      <td>2016-11-29</td>\n",
       "      <td>33800.0</td>\n",
       "      <td>33960.0</td>\n",
       "      <td>33380.0</td>\n",
       "      <td>33540.0</td>\n",
       "      <td>28790.425781</td>\n",
       "      <td>18081300.0</td>\n",
       "    </tr>\n",
       "  </tbody>\n",
       "</table>\n",
       "</div>"
      ],
      "text/plain": [
       "         Date     Open     High      Low    Close     Adj Close      Volume\n",
       "0  2016-11-23  33220.0  33220.0  32520.0  32980.0  28309.726563  12668600.0\n",
       "1  2016-11-24  32980.0  33040.0  32660.0  33000.0  28326.886719   7757150.0\n",
       "2  2016-11-25  32820.0  33040.0  32660.0  33000.0  28326.886719   6276900.0\n",
       "3  2016-11-28  33000.0  33620.0  32800.0  33540.0  28790.425781  13294050.0\n",
       "4  2016-11-29  33800.0  33960.0  33380.0  33540.0  28790.425781  18081300.0"
      ]
     },
     "execution_count": 2,
     "metadata": {},
     "output_type": "execute_result"
    }
   ],
   "source": [
    "df.head()"
   ]
  },
  {
   "cell_type": "code",
   "execution_count": 3,
   "id": "9d9c1727",
   "metadata": {},
   "outputs": [
    {
     "data": {
      "text/html": [
       "<div>\n",
       "<style scoped>\n",
       "    .dataframe tbody tr th:only-of-type {\n",
       "        vertical-align: middle;\n",
       "    }\n",
       "\n",
       "    .dataframe tbody tr th {\n",
       "        vertical-align: top;\n",
       "    }\n",
       "\n",
       "    .dataframe thead th {\n",
       "        text-align: right;\n",
       "    }\n",
       "</style>\n",
       "<table border=\"1\" class=\"dataframe\">\n",
       "  <thead>\n",
       "    <tr style=\"text-align: right;\">\n",
       "      <th></th>\n",
       "      <th>Date</th>\n",
       "      <th>Open</th>\n",
       "      <th>High</th>\n",
       "      <th>Low</th>\n",
       "      <th>Close</th>\n",
       "      <th>Adj Close</th>\n",
       "      <th>Volume</th>\n",
       "    </tr>\n",
       "  </thead>\n",
       "  <tbody>\n",
       "    <tr>\n",
       "      <th>1222</th>\n",
       "      <td>2021-11-17</td>\n",
       "      <td>71300.0</td>\n",
       "      <td>71600.0</td>\n",
       "      <td>70600.0</td>\n",
       "      <td>70700.0</td>\n",
       "      <td>70700.0</td>\n",
       "      <td>11027606.0</td>\n",
       "    </tr>\n",
       "    <tr>\n",
       "      <th>1223</th>\n",
       "      <td>2021-11-18</td>\n",
       "      <td>70700.0</td>\n",
       "      <td>71000.0</td>\n",
       "      <td>70200.0</td>\n",
       "      <td>70200.0</td>\n",
       "      <td>70200.0</td>\n",
       "      <td>10144957.0</td>\n",
       "    </tr>\n",
       "    <tr>\n",
       "      <th>1224</th>\n",
       "      <td>2021-11-19</td>\n",
       "      <td>70400.0</td>\n",
       "      <td>71400.0</td>\n",
       "      <td>70100.0</td>\n",
       "      <td>71200.0</td>\n",
       "      <td>71200.0</td>\n",
       "      <td>11954728.0</td>\n",
       "    </tr>\n",
       "    <tr>\n",
       "      <th>1225</th>\n",
       "      <td>2021-11-22</td>\n",
       "      <td>73300.0</td>\n",
       "      <td>75200.0</td>\n",
       "      <td>73000.0</td>\n",
       "      <td>74900.0</td>\n",
       "      <td>74900.0</td>\n",
       "      <td>27506623.0</td>\n",
       "    </tr>\n",
       "    <tr>\n",
       "      <th>1226</th>\n",
       "      <td>2021-11-23</td>\n",
       "      <td>76000.0</td>\n",
       "      <td>76000.0</td>\n",
       "      <td>74500.0</td>\n",
       "      <td>75300.0</td>\n",
       "      <td>75300.0</td>\n",
       "      <td>21805875.0</td>\n",
       "    </tr>\n",
       "  </tbody>\n",
       "</table>\n",
       "</div>"
      ],
      "text/plain": [
       "            Date     Open     High      Low    Close  Adj Close      Volume\n",
       "1222  2021-11-17  71300.0  71600.0  70600.0  70700.0    70700.0  11027606.0\n",
       "1223  2021-11-18  70700.0  71000.0  70200.0  70200.0    70200.0  10144957.0\n",
       "1224  2021-11-19  70400.0  71400.0  70100.0  71200.0    71200.0  11954728.0\n",
       "1225  2021-11-22  73300.0  75200.0  73000.0  74900.0    74900.0  27506623.0\n",
       "1226  2021-11-23  76000.0  76000.0  74500.0  75300.0    75300.0  21805875.0"
      ]
     },
     "execution_count": 3,
     "metadata": {},
     "output_type": "execute_result"
    }
   ],
   "source": [
    "df.tail()"
   ]
  },
  {
   "cell_type": "code",
   "execution_count": 4,
   "id": "03f1b5f3",
   "metadata": {},
   "outputs": [
    {
     "data": {
      "text/plain": [
       "Date          object\n",
       "Open         float64\n",
       "High         float64\n",
       "Low          float64\n",
       "Close        float64\n",
       "Adj Close    float64\n",
       "Volume       float64\n",
       "dtype: object"
      ]
     },
     "execution_count": 4,
     "metadata": {},
     "output_type": "execute_result"
    }
   ],
   "source": [
    "df.dtypes"
   ]
  },
  {
   "cell_type": "markdown",
   "id": "785c9036",
   "metadata": {},
   "source": [
    "### Checking Missing Values"
   ]
  },
  {
   "cell_type": "code",
   "execution_count": 5,
   "id": "f56398f3",
   "metadata": {
    "scrolled": false
   },
   "outputs": [
    {
     "data": {
      "text/plain": [
       "Date         0\n",
       "Open         5\n",
       "High         5\n",
       "Low          5\n",
       "Close        5\n",
       "Adj Close    5\n",
       "Volume       5\n",
       "dtype: int64"
      ]
     },
     "execution_count": 5,
     "metadata": {},
     "output_type": "execute_result"
    }
   ],
   "source": [
    "df.isnull().sum()"
   ]
  },
  {
   "cell_type": "markdown",
   "id": "43db183b",
   "metadata": {},
   "source": [
    "### Visualizing Missing Values"
   ]
  },
  {
   "cell_type": "code",
   "execution_count": 6,
   "id": "307e94b4",
   "metadata": {},
   "outputs": [
    {
     "data": {
      "text/plain": [
       "<AxesSubplot:>"
      ]
     },
     "execution_count": 6,
     "metadata": {},
     "output_type": "execute_result"
    },
    {
     "data": {
      "image/png": "[encoded data removed]",
      "text/plain": [
       "<Figure size 720x360 with 3 Axes>"
      ]
     },
     "metadata": {
      "needs_background": "light"
     },
     "output_type": "display_data"
    }
   ],
   "source": [
    "import missingno as msno\n",
    "msno.bar(df, figsize = (10,5))"
   ]
  },
  {
   "cell_type": "markdown",
   "id": "53c0bc5b",
   "metadata": {},
   "source": [
    "### Data Cleaning"
   ]
  },
  {
   "cell_type": "code",
   "execution_count": 7,
   "id": "03243f2c",
   "metadata": {},
   "outputs": [],
   "source": [
    "df['Open'].fillna(method='pad', inplace=True)\n",
    "df['High'].fillna(method='pad', inplace=True)\n",
    "df['Low'].fillna(method='pad', inplace=True)\n",
    "df['Close'].fillna(method='pad', inplace=True)\n",
    "df['Adj Close'].fillna(method='pad', inplace=True)\n",
    "df['Volume'].fillna(method='pad', inplace=True)"
   ]
  },
  {
   "cell_type": "markdown",
   "id": "e44d99ff",
   "metadata": {},
   "source": [
    "### Checking Null Values After Cleaning"
   ]
  },
  {
   "cell_type": "code",
   "execution_count": 8,
   "id": "bee042d7",
   "metadata": {
    "scrolled": true
   },
   "outputs": [
    {
     "data": {
      "text/plain": [
       "Date         0\n",
       "Open         0\n",
       "High         0\n",
       "Low          0\n",
       "Close        0\n",
       "Adj Close    0\n",
       "Volume       0\n",
       "dtype: int64"
      ]
     },
     "execution_count": 8,
     "metadata": {},
     "output_type": "execute_result"
    }
   ],
   "source": [
    "df.isnull().sum()"
   ]
  },
  {
   "cell_type": "markdown",
   "id": "5aaec9ea",
   "metadata": {},
   "source": [
    "### Separating Date and Close Price For Plotting"
   ]
  },
  {
   "cell_type": "code",
   "execution_count": 9,
   "id": "6b40b168",
   "metadata": {},
   "outputs": [
    {
     "data": {
      "text/html": [
       "<div>\n",
       "<style scoped>\n",
       "    .dataframe tbody tr th:only-of-type {\n",
       "        vertical-align: middle;\n",
       "    }\n",
       "\n",
       "    .dataframe tbody tr th {\n",
       "        vertical-align: top;\n",
       "    }\n",
       "\n",
       "    .dataframe thead th {\n",
       "        text-align: right;\n",
       "    }\n",
       "</style>\n",
       "<table border=\"1\" class=\"dataframe\">\n",
       "  <thead>\n",
       "    <tr style=\"text-align: right;\">\n",
       "      <th></th>\n",
       "      <th>Date</th>\n",
       "      <th>Close</th>\n",
       "    </tr>\n",
       "  </thead>\n",
       "  <tbody>\n",
       "    <tr>\n",
       "      <th>0</th>\n",
       "      <td>2016-11-23</td>\n",
       "      <td>32980.0</td>\n",
       "    </tr>\n",
       "    <tr>\n",
       "      <th>1</th>\n",
       "      <td>2016-11-24</td>\n",
       "      <td>33000.0</td>\n",
       "    </tr>\n",
       "    <tr>\n",
       "      <th>2</th>\n",
       "      <td>2016-11-25</td>\n",
       "      <td>33000.0</td>\n",
       "    </tr>\n",
       "    <tr>\n",
       "      <th>3</th>\n",
       "      <td>2016-11-28</td>\n",
       "      <td>33540.0</td>\n",
       "    </tr>\n",
       "    <tr>\n",
       "      <th>4</th>\n",
       "      <td>2016-11-29</td>\n",
       "      <td>33540.0</td>\n",
       "    </tr>\n",
       "    <tr>\n",
       "      <th>...</th>\n",
       "      <td>...</td>\n",
       "      <td>...</td>\n",
       "    </tr>\n",
       "    <tr>\n",
       "      <th>1222</th>\n",
       "      <td>2021-11-17</td>\n",
       "      <td>70700.0</td>\n",
       "    </tr>\n",
       "    <tr>\n",
       "      <th>1223</th>\n",
       "      <td>2021-11-18</td>\n",
       "      <td>70200.0</td>\n",
       "    </tr>\n",
       "    <tr>\n",
       "      <th>1224</th>\n",
       "      <td>2021-11-19</td>\n",
       "      <td>71200.0</td>\n",
       "    </tr>\n",
       "    <tr>\n",
       "      <th>1225</th>\n",
       "      <td>2021-11-22</td>\n",
       "      <td>74900.0</td>\n",
       "    </tr>\n",
       "    <tr>\n",
       "      <th>1226</th>\n",
       "      <td>2021-11-23</td>\n",
       "      <td>75300.0</td>\n",
       "    </tr>\n",
       "  </tbody>\n",
       "</table>\n",
       "<p>1227 rows × 2 columns</p>\n",
       "</div>"
      ],
      "text/plain": [
       "            Date    Close\n",
       "0     2016-11-23  32980.0\n",
       "1     2016-11-24  33000.0\n",
       "2     2016-11-25  33000.0\n",
       "3     2016-11-28  33540.0\n",
       "4     2016-11-29  33540.0\n",
       "...          ...      ...\n",
       "1222  2021-11-17  70700.0\n",
       "1223  2021-11-18  70200.0\n",
       "1224  2021-11-19  71200.0\n",
       "1225  2021-11-22  74900.0\n",
       "1226  2021-11-23  75300.0\n",
       "\n",
       "[1227 rows x 2 columns]"
      ]
     },
     "execution_count": 9,
     "metadata": {},
     "output_type": "execute_result"
    }
   ],
   "source": [
    "df1=df.reset_index()['Close']\n",
    "date = df['Date']\n",
    "date\n",
    "plotdf = pd.DataFrame({'Date':date, 'Close':df1})\n",
    "plotdf"
   ]
  },
  {
   "cell_type": "markdown",
   "id": "d58592c2",
   "metadata": {},
   "source": [
    "### Visualizing The Stock Price Over Time"
   ]
  },
  {
   "cell_type": "code",
   "execution_count": 10,
   "id": "687d98c4",
   "metadata": {
    "scrolled": false
   },
   "outputs": [
    {
     "data": {
      "text/plain": [
       "([<matplotlib.axis.XTick at 0x28ab8d6a8e0>,\n",
       "  <matplotlib.axis.XTick at 0x28ab8d6a8b0>,\n",
       "  <matplotlib.axis.XTick at 0x28ab8d7bbb0>,\n",
       "  <matplotlib.axis.XTick at 0x28ab8c0d4f0>,\n",
       "  <matplotlib.axis.XTick at 0x28ab8c0dc40>],\n",
       " [Text(0, 0, ''),\n",
       "  Text(0, 0, ''),\n",
       "  Text(0, 0, ''),\n",
       "  Text(0, 0, ''),\n",
       "  Text(0, 0, '')])"
      ]
     },
     "execution_count": 10,
     "metadata": {},
     "output_type": "execute_result"
    },
    {
     "data": {
      "image/png": "[encoded data removed]",
      "text/plain": [
       "<Figure size 432x288 with 1 Axes>"
      ]
     },
     "metadata": {
      "needs_background": "light"
     },
     "output_type": "display_data"
    }
   ],
   "source": [
    "import matplotlib.pyplot as plt\n",
    "plt.plot(df['Date'],df1)\n",
    "plt.xticks(range(0,len(df),300))"
   ]
  },
  {
   "cell_type": "markdown",
   "id": "6f09db77",
   "metadata": {},
   "source": [
    "### Maximum and Minimum Stock Prices"
   ]
  },
  {
   "cell_type": "code",
   "execution_count": 11,
   "id": "23c0c062",
   "metadata": {},
   "outputs": [
    {
     "name": "stdout",
     "output_type": "stream",
     "text": [
      "Maximum Stock Price: \n",
      "            Date    Close\n",
      "1011  2021-01-11  91000.0\n",
      "\n",
      "Minimum Stock Price: \n",
      "         Date    Close\n",
      "0  2016-11-23  32980.0\n"
     ]
    }
   ],
   "source": [
    "print(\"Maximum Stock Price: \")\n",
    "print(plotdf[plotdf.Close == plotdf.Close.max()])\n",
    "\n",
    "print(\"\\nMinimum Stock Price: \")\n",
    "print(plotdf[plotdf.Close == plotdf.Close.min()])"
   ]
  },
  {
   "cell_type": "code",
   "execution_count": 12,
   "id": "d3a1ecc3",
   "metadata": {},
   "outputs": [],
   "source": [
    "import numpy as np"
   ]
  },
  {
   "cell_type": "markdown",
   "id": "6cab0925",
   "metadata": {},
   "source": [
    "### Normalising Data"
   ]
  },
  {
   "cell_type": "code",
   "execution_count": 13,
   "id": "76925765",
   "metadata": {
    "scrolled": true
   },
   "outputs": [
    {
     "data": {
      "text/plain": [
       "array([[0.00000000e+00],\n",
       "       [3.44708721e-04],\n",
       "       [3.44708721e-04],\n",
       "       ...,\n",
       "       [6.58738366e-01],\n",
       "       [7.22509479e-01],\n",
       "       [7.29403654e-01]])"
      ]
     },
     "execution_count": 13,
     "metadata": {},
     "output_type": "execute_result"
    }
   ],
   "source": [
    "from sklearn.preprocessing import MinMaxScaler\n",
    "scaler=MinMaxScaler(feature_range=(0,1))\n",
    "df1=scaler.fit_transform(np.array(df1).reshape(-1,1))\n",
    "df1"
   ]
  },
  {
   "cell_type": "markdown",
   "id": "7bc12c8b",
   "metadata": {},
   "source": [
    "### Splitting Data Into Train and Test Set"
   ]
  },
  {
   "cell_type": "code",
   "execution_count": 14,
   "id": "aa00a3e4",
   "metadata": {
    "scrolled": true
   },
   "outputs": [
    {
     "data": {
      "text/plain": [
       "array([[0.        ],\n",
       "       [0.00034471],\n",
       "       [0.00034471],\n",
       "       [0.00965184],\n",
       "       [0.00965184],\n",
       "       [0.03343675],\n",
       "       [0.03447087],\n",
       "       [0.02688728],\n",
       "       [0.0237849 ],\n",
       "       [0.03412616]])"
      ]
     },
     "execution_count": 14,
     "metadata": {},
     "output_type": "execute_result"
    }
   ],
   "source": [
    "training_size=int(len(df1)*0.65)\n",
    "test_size=len(df1)-training_size\n",
    "train_data,test_data=df1[0:training_size,:],df1[training_size:len(df1),:1]\n",
    "train_data[:10,]"
   ]
  },
  {
   "cell_type": "markdown",
   "id": "98dba9f7",
   "metadata": {},
   "source": [
    "### Creating time-steps"
   ]
  },
  {
   "cell_type": "code",
   "execution_count": 15,
   "id": "b34f0e8f",
   "metadata": {},
   "outputs": [],
   "source": [
    "# convert an array of values into a dataset matrix\n",
    "def create_dataset(dataset, time_step=1):\n",
    "\tdataX, dataY = [], []\n",
    "\tfor i in range(len(dataset)-time_step-1):\n",
    "\t\ta = dataset[i:(i+time_step), 0]   ###i=0, 0,1,2,3-----99   100 \n",
    "\t\tdataX.append(a)\n",
    "\t\tdataY.append(dataset[i + time_step, 0])\n",
    "\treturn np.array(dataX), np.array(dataY)"
   ]
  },
  {
   "cell_type": "code",
   "execution_count": 16,
   "id": "76f4839c",
   "metadata": {},
   "outputs": [
    {
     "data": {
      "text/plain": [
       "(329, 100)"
      ]
     },
     "execution_count": 16,
     "metadata": {},
     "output_type": "execute_result"
    }
   ],
   "source": [
    "time_step = 100\n",
    "X_train, y_train = create_dataset(train_data, time_step)\n",
    "X_test, y_test = create_dataset(test_data, time_step)\n",
    "X_test.shape"
   ]
  },
  {
   "cell_type": "markdown",
   "id": "20192588",
   "metadata": {},
   "source": [
    "### Reshaping Input Data"
   ]
  },
  {
   "cell_type": "code",
   "execution_count": 17,
   "id": "15327cc0",
   "metadata": {},
   "outputs": [],
   "source": [
    "# reshape input to be [samples, time steps, features] which is required for LSTM\n",
    "X_train =X_train.reshape(X_train.shape[0],X_train.shape[1] , 1)\n",
    "X_test = X_test.reshape(X_test.shape[0],X_test.shape[1] , 1)"
   ]
  },
  {
   "cell_type": "markdown",
   "id": "42f9c2cf",
   "metadata": {},
   "source": [
    "### Building LSTM model"
   ]
  },
  {
   "cell_type": "code",
   "execution_count": 18,
   "id": "6c258702",
   "metadata": {},
   "outputs": [],
   "source": [
    "from tensorflow.keras.models import Sequential\n",
    "from tensorflow.keras.layers import Dense\n",
    "from tensorflow.keras.layers import LSTM\n",
    "model=Sequential()\n",
    "model.add(LSTM(50,return_sequences=True,input_shape=(100,1)))\n",
    "model.add(LSTM(50,return_sequences=True))\n",
    "model.add(LSTM(50))\n",
    "model.add(Dense(1))\n",
    "model.compile(loss='mean_squared_error',optimizer='adam')"
   ]
  },
  {
   "cell_type": "code",
   "execution_count": 19,
   "id": "188dd08c",
   "metadata": {},
   "outputs": [
    {
     "name": "stdout",
     "output_type": "stream",
     "text": [
      "Model: \"sequential\"\n",
      "_________________________________________________________________\n",
      " Layer (type)                Output Shape              Param #   \n",
      "=================================================================\n",
      " lstm (LSTM)                 (None, 100, 50)           10400     \n",
      "                                                                 \n",
      " lstm_1 (LSTM)               (None, 100, 50)           20200     \n",
      "                                                                 \n",
      " lstm_2 (LSTM)               (None, 50)                20200     \n",
      "                                                                 \n",
      " dense (Dense)               (None, 1)                 51        \n",
      "                                                                 \n",
      "=================================================================\n",
      "Total params: 50,851\n",
      "Trainable params: 50,851\n",
      "Non-trainable params: 0\n",
      "_________________________________________________________________\n"
     ]
    }
   ],
   "source": [
    "model.summary()"
   ]
  },
  {
   "cell_type": "markdown",
   "id": "36c80ac2",
   "metadata": {},
   "source": [
    "### Fitting Training Data on Model"
   ]
  },
  {
   "cell_type": "code",
   "execution_count": 20,
   "id": "cec68f30",
   "metadata": {
    "scrolled": true
   },
   "outputs": [
    {
     "name": "stdout",
     "output_type": "stream",
     "text": [
      "Epoch 1/100\n",
      "10/10 [==============================] - 7s 285ms/step - loss: 0.0177 - val_loss: 0.0056\n",
      "Epoch 2/100\n",
      "10/10 [==============================] - 1s 136ms/step - loss: 0.0032 - val_loss: 0.0086\n",
      "Epoch 3/100\n",
      "10/10 [==============================] - 1s 138ms/step - loss: 0.0020 - val_loss: 0.0110\n",
      "Epoch 4/100\n",
      "10/10 [==============================] - 1s 134ms/step - loss: 0.0018 - val_loss: 0.0070\n",
      "Epoch 5/100\n",
      "10/10 [==============================] - 1s 135ms/step - loss: 0.0016 - val_loss: 0.0083\n",
      "Epoch 6/100\n",
      "10/10 [==============================] - 2s 165ms/step - loss: 0.0014 - val_loss: 0.0056\n",
      "Epoch 7/100\n",
      "10/10 [==============================] - 1s 141ms/step - loss: 0.0013 - val_loss: 0.0050\n",
      "Epoch 8/100\n",
      "10/10 [==============================] - 1s 135ms/step - loss: 0.0012 - val_loss: 0.0044\n",
      "Epoch 9/100\n",
      "10/10 [==============================] - 1s 139ms/step - loss: 0.0011 - val_loss: 0.0031\n",
      "Epoch 10/100\n",
      "10/10 [==============================] - 1s 137ms/step - loss: 0.0011 - val_loss: 0.0025\n",
      "Epoch 11/100\n",
      "10/10 [==============================] - 1s 147ms/step - loss: 0.0011 - val_loss: 0.0035\n",
      "Epoch 12/100\n",
      "10/10 [==============================] - 1s 143ms/step - loss: 0.0011 - val_loss: 0.0023\n",
      "Epoch 13/100\n",
      "10/10 [==============================] - 1s 141ms/step - loss: 0.0010 - val_loss: 0.0024\n",
      "Epoch 14/100\n",
      "10/10 [==============================] - 1s 140ms/step - loss: 9.8927e-04 - val_loss: 0.0032\n",
      "Epoch 15/100\n",
      "10/10 [==============================] - 2s 154ms/step - loss: 0.0010 - val_loss: 0.0036\n",
      "Epoch 16/100\n",
      "10/10 [==============================] - 2s 165ms/step - loss: 0.0010 - val_loss: 0.0030\n",
      "Epoch 17/100\n",
      "10/10 [==============================] - 1s 141ms/step - loss: 9.8703e-04 - val_loss: 0.0025\n",
      "Epoch 18/100\n",
      "10/10 [==============================] - 1s 146ms/step - loss: 9.7382e-04 - val_loss: 0.0021\n",
      "Epoch 19/100\n",
      "10/10 [==============================] - 1s 147ms/step - loss: 0.0010 - val_loss: 0.0018\n",
      "Epoch 20/100\n",
      "10/10 [==============================] - 1s 147ms/step - loss: 9.7420e-04 - val_loss: 0.0017\n",
      "Epoch 21/100\n",
      "10/10 [==============================] - 1s 140ms/step - loss: 9.1721e-04 - val_loss: 0.0019\n",
      "Epoch 22/100\n",
      "10/10 [==============================] - 1s 140ms/step - loss: 8.4048e-04 - val_loss: 0.0020\n",
      "Epoch 23/100\n",
      "10/10 [==============================] - 1s 141ms/step - loss: 8.0783e-04 - val_loss: 0.0016\n",
      "Epoch 24/100\n",
      "10/10 [==============================] - 1s 138ms/step - loss: 8.6021e-04 - val_loss: 0.0018\n",
      "Epoch 25/100\n",
      "10/10 [==============================] - 1s 139ms/step - loss: 8.5149e-04 - val_loss: 0.0028\n",
      "Epoch 26/100\n",
      "10/10 [==============================] - 2s 151ms/step - loss: 8.3660e-04 - val_loss: 0.0026\n",
      "Epoch 27/100\n",
      "10/10 [==============================] - 1s 143ms/step - loss: 7.8869e-04 - val_loss: 0.0025\n",
      "Epoch 28/100\n",
      "10/10 [==============================] - 1s 143ms/step - loss: 7.9738e-04 - val_loss: 0.0029\n",
      "Epoch 29/100\n",
      "10/10 [==============================] - 1s 139ms/step - loss: 7.9817e-04 - val_loss: 0.0025\n",
      "Epoch 30/100\n",
      "10/10 [==============================] - 1s 145ms/step - loss: 7.6926e-04 - val_loss: 0.0019\n",
      "Epoch 31/100\n",
      "10/10 [==============================] - 1s 143ms/step - loss: 7.1860e-04 - val_loss: 0.0021\n",
      "Epoch 32/100\n",
      "10/10 [==============================] - 1s 141ms/step - loss: 7.3328e-04 - val_loss: 0.0017\n",
      "Epoch 33/100\n",
      "10/10 [==============================] - 1s 143ms/step - loss: 7.1062e-04 - val_loss: 0.0016\n",
      "Epoch 34/100\n",
      "10/10 [==============================] - 2s 166ms/step - loss: 7.3547e-04 - val_loss: 0.0016\n",
      "Epoch 35/100\n",
      "10/10 [==============================] - 1s 151ms/step - loss: 6.8754e-04 - val_loss: 0.0019\n",
      "Epoch 36/100\n",
      "10/10 [==============================] - 2s 169ms/step - loss: 6.9388e-04 - val_loss: 0.0022\n",
      "Epoch 37/100\n",
      "10/10 [==============================] - 1s 147ms/step - loss: 7.4398e-04 - val_loss: 0.0025\n",
      "Epoch 38/100\n",
      "10/10 [==============================] - 1s 144ms/step - loss: 7.3644e-04 - val_loss: 0.0018\n",
      "Epoch 39/100\n",
      "10/10 [==============================] - 1s 144ms/step - loss: 7.6633e-04 - val_loss: 0.0016\n",
      "Epoch 40/100\n",
      "10/10 [==============================] - 1s 146ms/step - loss: 6.7124e-04 - val_loss: 0.0017\n",
      "Epoch 41/100\n",
      "10/10 [==============================] - 2s 158ms/step - loss: 6.5198e-04 - val_loss: 0.0017\n",
      "Epoch 42/100\n",
      "10/10 [==============================] - 2s 178ms/step - loss: 6.5742e-04 - val_loss: 0.0018\n",
      "Epoch 43/100\n",
      "10/10 [==============================] - 1s 148ms/step - loss: 6.4675e-04 - val_loss: 0.0021\n",
      "Epoch 44/100\n",
      "10/10 [==============================] - 1s 147ms/step - loss: 6.3778e-04 - val_loss: 0.0016\n",
      "Epoch 45/100\n",
      "10/10 [==============================] - 1s 149ms/step - loss: 6.6759e-04 - val_loss: 0.0018\n",
      "Epoch 46/100\n",
      "10/10 [==============================] - 2s 156ms/step - loss: 6.3973e-04 - val_loss: 0.0018\n",
      "Epoch 47/100\n",
      "10/10 [==============================] - 2s 154ms/step - loss: 6.3099e-04 - val_loss: 0.0018\n",
      "Epoch 48/100\n",
      "10/10 [==============================] - 1s 150ms/step - loss: 6.2692e-04 - val_loss: 0.0020\n",
      "Epoch 49/100\n",
      "10/10 [==============================] - 1s 149ms/step - loss: 6.1238e-04 - val_loss: 0.0018\n",
      "Epoch 50/100\n",
      "10/10 [==============================] - 1s 148ms/step - loss: 6.0275e-04 - val_loss: 0.0016\n",
      "Epoch 51/100\n",
      "10/10 [==============================] - 1s 146ms/step - loss: 6.2069e-04 - val_loss: 0.0019\n",
      "Epoch 52/100\n",
      "10/10 [==============================] - 1s 148ms/step - loss: 6.0886e-04 - val_loss: 0.0020\n",
      "Epoch 53/100\n",
      "10/10 [==============================] - 2s 179ms/step - loss: 6.1104e-04 - val_loss: 0.0019\n",
      "Epoch 54/100\n",
      "10/10 [==============================] - 2s 157ms/step - loss: 6.0752e-04 - val_loss: 0.0014\n",
      "Epoch 55/100\n",
      "10/10 [==============================] - 2s 153ms/step - loss: 5.7897e-04 - val_loss: 0.0014\n",
      "Epoch 56/100\n",
      "10/10 [==============================] - 1s 143ms/step - loss: 5.5882e-04 - val_loss: 0.0017\n",
      "Epoch 57/100\n",
      "10/10 [==============================] - 2s 153ms/step - loss: 5.7180e-04 - val_loss: 0.0015\n",
      "Epoch 58/100\n",
      "10/10 [==============================] - 1s 146ms/step - loss: 5.5811e-04 - val_loss: 0.0014\n",
      "Epoch 59/100\n",
      "10/10 [==============================] - 1s 146ms/step - loss: 5.6100e-04 - val_loss: 0.0014\n",
      "Epoch 60/100\n",
      "10/10 [==============================] - 2s 158ms/step - loss: 5.4884e-04 - val_loss: 0.0013\n",
      "Epoch 61/100\n",
      "10/10 [==============================] - 2s 172ms/step - loss: 5.7819e-04 - val_loss: 0.0016\n",
      "Epoch 62/100\n",
      "10/10 [==============================] - 2s 161ms/step - loss: 5.2326e-04 - val_loss: 0.0012\n",
      "Epoch 63/100\n",
      "10/10 [==============================] - 1s 147ms/step - loss: 5.4554e-04 - val_loss: 0.0012\n",
      "Epoch 64/100\n",
      "10/10 [==============================] - 2s 161ms/step - loss: 5.1757e-04 - val_loss: 0.0012\n",
      "Epoch 65/100\n",
      "10/10 [==============================] - 1s 147ms/step - loss: 5.4546e-04 - val_loss: 0.0014\n",
      "Epoch 66/100\n",
      "10/10 [==============================] - 1s 139ms/step - loss: 5.2852e-04 - val_loss: 0.0015\n",
      "Epoch 67/100\n",
      "10/10 [==============================] - 2s 152ms/step - loss: 5.5454e-04 - val_loss: 0.0011\n",
      "Epoch 68/100\n",
      "10/10 [==============================] - 2s 146ms/step - loss: 5.2078e-04 - val_loss: 0.0010\n",
      "Epoch 69/100\n",
      "10/10 [==============================] - 2s 151ms/step - loss: 5.0930e-04 - val_loss: 0.0011\n",
      "Epoch 70/100\n",
      "10/10 [==============================] - 2s 151ms/step - loss: 4.8253e-04 - val_loss: 0.0011\n",
      "Epoch 71/100\n",
      "10/10 [==============================] - 2s 160ms/step - loss: 4.7332e-04 - val_loss: 0.0010\n",
      "Epoch 72/100\n",
      "10/10 [==============================] - 1s 145ms/step - loss: 4.7689e-04 - val_loss: 0.0011\n",
      "Epoch 73/100\n",
      "10/10 [==============================] - 1s 141ms/step - loss: 4.6010e-04 - val_loss: 9.5634e-04\n",
      "Epoch 74/100\n",
      "10/10 [==============================] - 1s 145ms/step - loss: 4.8626e-04 - val_loss: 0.0013\n",
      "Epoch 75/100\n",
      "10/10 [==============================] - 1s 148ms/step - loss: 5.9000e-04 - val_loss: 0.0010\n",
      "Epoch 76/100\n",
      "10/10 [==============================] - 1s 144ms/step - loss: 5.8965e-04 - val_loss: 9.2480e-04\n",
      "Epoch 77/100\n",
      "10/10 [==============================] - 1s 144ms/step - loss: 4.9476e-04 - val_loss: 8.2004e-04\n",
      "Epoch 78/100\n",
      "10/10 [==============================] - 1s 143ms/step - loss: 4.4383e-04 - val_loss: 8.9353e-04\n"
     ]
    },
    {
     "name": "stdout",
     "output_type": "stream",
     "text": [
      "Epoch 79/100\n",
      "10/10 [==============================] - 1s 150ms/step - loss: 4.3538e-04 - val_loss: 8.5292e-04\n",
      "Epoch 80/100\n",
      "10/10 [==============================] - 1s 144ms/step - loss: 4.2181e-04 - val_loss: 8.7473e-04\n",
      "Epoch 81/100\n",
      "10/10 [==============================] - 1s 148ms/step - loss: 4.4066e-04 - val_loss: 7.3677e-04\n",
      "Epoch 82/100\n",
      "10/10 [==============================] - 2s 157ms/step - loss: 4.1063e-04 - val_loss: 9.8520e-04\n",
      "Epoch 83/100\n",
      "10/10 [==============================] - 1s 141ms/step - loss: 4.2637e-04 - val_loss: 7.6133e-04\n",
      "Epoch 84/100\n",
      "10/10 [==============================] - 1s 145ms/step - loss: 4.1477e-04 - val_loss: 6.8016e-04\n",
      "Epoch 85/100\n",
      "10/10 [==============================] - 1s 141ms/step - loss: 4.3015e-04 - val_loss: 8.2097e-04\n",
      "Epoch 86/100\n",
      "10/10 [==============================] - 1s 149ms/step - loss: 3.9412e-04 - val_loss: 6.4622e-04\n",
      "Epoch 87/100\n",
      "10/10 [==============================] - 2s 152ms/step - loss: 3.8053e-04 - val_loss: 6.6699e-04\n",
      "Epoch 88/100\n",
      "10/10 [==============================] - 1s 149ms/step - loss: 3.8586e-04 - val_loss: 6.3210e-04\n",
      "Epoch 89/100\n",
      "10/10 [==============================] - 1s 143ms/step - loss: 3.8414e-04 - val_loss: 5.9517e-04\n",
      "Epoch 90/100\n",
      "10/10 [==============================] - 1s 144ms/step - loss: 3.5236e-04 - val_loss: 6.9742e-04\n",
      "Epoch 91/100\n",
      "10/10 [==============================] - 1s 142ms/step - loss: 3.5869e-04 - val_loss: 6.0160e-04\n",
      "Epoch 92/100\n",
      "10/10 [==============================] - 1s 146ms/step - loss: 3.6119e-04 - val_loss: 5.5062e-04\n",
      "Epoch 93/100\n",
      "10/10 [==============================] - 2s 158ms/step - loss: 3.5626e-04 - val_loss: 8.9604e-04\n",
      "Epoch 94/100\n",
      "10/10 [==============================] - 1s 149ms/step - loss: 3.4907e-04 - val_loss: 5.2972e-04\n",
      "Epoch 95/100\n",
      "10/10 [==============================] - 2s 159ms/step - loss: 3.3154e-04 - val_loss: 5.8268e-04\n",
      "Epoch 96/100\n",
      "10/10 [==============================] - 2s 167ms/step - loss: 3.4537e-04 - val_loss: 5.4338e-04\n",
      "Epoch 97/100\n",
      "10/10 [==============================] - 2s 152ms/step - loss: 3.2913e-04 - val_loss: 5.6019e-04\n",
      "Epoch 98/100\n",
      "10/10 [==============================] - 1s 149ms/step - loss: 3.1454e-04 - val_loss: 5.1078e-04\n",
      "Epoch 99/100\n",
      "10/10 [==============================] - 1s 150ms/step - loss: 3.2603e-04 - val_loss: 5.0832e-04\n",
      "Epoch 100/100\n",
      "10/10 [==============================] - 2s 150ms/step - loss: 3.1505e-04 - val_loss: 4.9540e-04\n"
     ]
    },
    {
     "data": {
      "text/plain": [
       "<keras.callbacks.History at 0x28ac84e2e80>"
      ]
     },
     "execution_count": 20,
     "metadata": {},
     "output_type": "execute_result"
    }
   ],
   "source": [
    "from keras.callbacks import EarlyStopping\n",
    "model.fit(X_train,y_train, epochs=100,batch_size=64,verbose=1,validation_split=0.1)"
   ]
  },
  {
   "cell_type": "markdown",
   "id": "39e03974",
   "metadata": {},
   "source": [
    "### Making Prediction"
   ]
  },
  {
   "cell_type": "code",
   "execution_count": 21,
   "id": "c3a42c8f",
   "metadata": {},
   "outputs": [],
   "source": [
    "import tensorflow as tf"
   ]
  },
  {
   "cell_type": "code",
   "execution_count": 22,
   "id": "2d53e340",
   "metadata": {},
   "outputs": [],
   "source": [
    "train_predict=model.predict(X_train)\n",
    "test_predict=model.predict(X_test)"
   ]
  },
  {
   "cell_type": "markdown",
   "id": "6ccac6f3",
   "metadata": {},
   "source": [
    "### Scaling Train and Test Data Back To Original Scale"
   ]
  },
  {
   "cell_type": "code",
   "execution_count": 23,
   "id": "8aac2b65",
   "metadata": {},
   "outputs": [],
   "source": [
    "train_predict=scaler.inverse_transform(train_predict)\n",
    "test_predict=scaler.inverse_transform(test_predict)"
   ]
  },
  {
   "cell_type": "code",
   "execution_count": 24,
   "id": "734eb8a9",
   "metadata": {},
   "outputs": [],
   "source": [
    "y_test1 = scaler.inverse_transform([y_test])\n",
    "y_test1 = y_test1[0]\n",
    "y_train1 = scaler.inverse_transform([y_train])\n",
    "y_train1 = y_train1[0]"
   ]
  },
  {
   "cell_type": "markdown",
   "id": "60b58536",
   "metadata": {},
   "source": [
    "### Accuracy Metrics"
   ]
  },
  {
   "cell_type": "markdown",
   "id": "b178955f",
   "metadata": {},
   "source": [
    "#### R2 Score"
   ]
  },
  {
   "cell_type": "code",
   "execution_count": 25,
   "id": "64f96b9b",
   "metadata": {},
   "outputs": [
    {
     "data": {
      "text/plain": [
       "0.9469825965150721"
      ]
     },
     "execution_count": 25,
     "metadata": {},
     "output_type": "execute_result"
    }
   ],
   "source": [
    "from sklearn.metrics import r2_score\n",
    "r2_score(y_train1, train_predict)"
   ]
  },
  {
   "cell_type": "code",
   "execution_count": 26,
   "id": "c3a6c90d",
   "metadata": {},
   "outputs": [
    {
     "data": {
      "text/plain": [
       "0.9570899151724949"
      ]
     },
     "execution_count": 26,
     "metadata": {},
     "output_type": "execute_result"
    }
   ],
   "source": [
    "r2_score(y_test1, test_predict)"
   ]
  },
  {
   "cell_type": "markdown",
   "id": "f5d00e21",
   "metadata": {},
   "source": [
    "#### RMSE Score"
   ]
  },
  {
   "cell_type": "code",
   "execution_count": 27,
   "id": "ebd241b6",
   "metadata": {},
   "outputs": [
    {
     "data": {
      "text/plain": [
       "1067.2137675289646"
      ]
     },
     "execution_count": 27,
     "metadata": {},
     "output_type": "execute_result"
    }
   ],
   "source": [
    "import math\n",
    "from sklearn.metrics import mean_squared_error\n",
    "rmse_train = math.sqrt(mean_squared_error(y_train1,train_predict))\n",
    "rmse_train"
   ]
  },
  {
   "cell_type": "code",
   "execution_count": 28,
   "id": "ef6ffcf9",
   "metadata": {},
   "outputs": [
    {
     "data": {
      "text/plain": [
       "2038.1058338990085"
      ]
     },
     "execution_count": 28,
     "metadata": {},
     "output_type": "execute_result"
    }
   ],
   "source": [
    "rmse_test = math.sqrt(mean_squared_error(y_test1,test_predict))\n",
    "rmse_test"
   ]
  },
  {
   "cell_type": "markdown",
   "id": "dc472249",
   "metadata": {},
   "source": [
    "#### Normalised RMSE"
   ]
  },
  {
   "cell_type": "code",
   "execution_count": 29,
   "id": "dd4e149b",
   "metadata": {},
   "outputs": [
    {
     "name": "stdout",
     "output_type": "stream",
     "text": [
      "91000.0 32980.0\n"
     ]
    }
   ],
   "source": [
    "max = df.Close.max()\n",
    "min = df.Close.min()\n",
    "print(max,min)"
   ]
  },
  {
   "cell_type": "code",
   "execution_count": 30,
   "id": "e4285e2f",
   "metadata": {},
   "outputs": [
    {
     "data": {
      "text/plain": [
       "0.018393894648896323"
      ]
     },
     "execution_count": 30,
     "metadata": {},
     "output_type": "execute_result"
    }
   ],
   "source": [
    "norm_rmse_train = rmse_train/(max-min)\n",
    "norm_rmse_train"
   ]
  },
  {
   "cell_type": "code",
   "execution_count": 35,
   "id": "93e46b85",
   "metadata": {},
   "outputs": [
    {
     "data": {
      "text/plain": [
       "0.028747127613066522"
      ]
     },
     "execution_count": 35,
     "metadata": {},
     "output_type": "execute_result"
    }
   ],
   "source": [
    "norm_rmse_test = rmse_test/(max-min)\n",
    "norm_rmse_test"
   ]
  },
  {
   "cell_type": "markdown",
   "id": "539e7591",
   "metadata": {},
   "source": [
    "#### MAPE"
   ]
  },
  {
   "cell_type": "code",
   "execution_count": 33,
   "id": "4b5811f3",
   "metadata": {},
   "outputs": [
    {
     "data": {
      "text/plain": [
       "0.017935003501180536"
      ]
     },
     "execution_count": 33,
     "metadata": {},
     "output_type": "execute_result"
    }
   ],
   "source": [
    "from sklearn.metrics import mean_absolute_percentage_error\n",
    "mape_train = mean_absolute_percentage_error(y_train1,train_predict)\n",
    "mape_train"
   ]
  },
  {
   "cell_type": "code",
   "execution_count": 34,
   "id": "c43a0eea",
   "metadata": {},
   "outputs": [
    {
     "data": {
      "text/plain": [
       "0.02189502485655848"
      ]
     },
     "execution_count": 34,
     "metadata": {},
     "output_type": "execute_result"
    }
   ],
   "source": [
    "mape_test = mean_absolute_percentage_error(y_test1,test_predict)\n",
    "mape_test"
   ]
  },
  {
   "cell_type": "markdown",
   "id": "e0ac5365",
   "metadata": {},
   "source": [
    "### Plot"
   ]
  },
  {
   "cell_type": "code",
   "execution_count": 29,
   "id": "16484661",
   "metadata": {},
   "outputs": [
    {
     "data": {
      "image/png": "[encoded data removed]",
      "text/plain": [
       "<Figure size 432x288 with 1 Axes>"
      ]
     },
     "metadata": {
      "needs_background": "light"
     },
     "output_type": "display_data"
    }
   ],
   "source": [
    "look_back=100\n",
    "trainPredictPlot = np.empty_like(df1)\n",
    "trainPredictPlot[:, :] = np.nan\n",
    "trainPredictPlot[look_back:len(train_predict)+look_back, :] = train_predict\n",
    "# shift test predictions for plotting\n",
    "testPredictPlot = np.empty_like(df1)\n",
    "testPredictPlot[:, :] = np.nan\n",
    "testPredictPlot[len(train_predict)+(look_back*2)+1:len(df1)-1, :] = test_predict\n",
    "# plot baseline and predictions\n",
    "plt.plot(scaler.inverse_transform(df1), label = \"Actual Values\")\n",
    "plt.plot(trainPredictPlot, label = \"Training Data Prediction\")\n",
    "plt.plot(testPredictPlot, label = \"Training Data Prediction\")\n",
    "plt.legend(loc = \"upper left\")\n",
    "plt.show()"
   ]
  }
 ],
 "metadata": {
  "kernelspec": {
   "display_name": "Python 3 (ipykernel)",
   "language": "python",
   "name": "python3"
  },
  "language_info": {
   "codemirror_mode": {
    "name": "ipython",
    "version": 3
   },
   "file_extension": ".py",
   "mimetype": "text/x-python",
   "name": "python",
   "nbconvert_exporter": "python",
   "pygments_lexer": "ipython3",
   "version": "3.9.8"
  }
 },
 "nbformat": 4,
 "nbformat_minor": 5
}
